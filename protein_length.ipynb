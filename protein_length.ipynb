{
 "cells": [
  {
   "cell_type": "code",
   "execution_count": 1,
   "id": "0492b9ae",
   "metadata": {},
   "outputs": [
    {
     "name": "stderr",
     "output_type": "stream",
     "text": [
      "/Users/lix2/opt/anaconda3/lib/python3.9/site-packages/pandas/core/computation/expressions.py:21: UserWarning: Pandas requires version '2.8.4' or newer of 'numexpr' (version '2.8.3' currently installed).\n",
      "  from pandas.core.computation.check import NUMEXPR_INSTALLED\n",
      "/Users/lix2/opt/anaconda3/lib/python3.9/site-packages/pandas/core/arrays/masked.py:60: UserWarning: Pandas requires version '1.3.6' or newer of 'bottleneck' (version '1.3.5' currently installed).\n",
      "  from pandas.core import (\n",
      "/var/folders/mw/_3xhfhq95wv51_k15b6h4cf4lj8gp1/T/ipykernel_77479/3099259.py:6: DtypeWarning: Columns (2,4) have mixed types. Specify dtype option on import or set low_memory=False.\n",
      "  df_protein = pd.read_csv('protein_seq_crossmap_for_single_id.tsv', sep='\\t')\n"
     ]
    }
   ],
   "source": [
    "import pandas as pd\n",
    "import requests\n",
    "\n",
    "# Load dataframes from TXT files\n",
    "df_transcripts = pd.read_csv('output/grch37/compare_result_grch37.txt', sep='\\t')\n",
    "df_protein = pd.read_csv('protein_seq_crossmap_for_single_id.tsv', sep='\\t')\n"
   ]
  },
  {
   "cell_type": "code",
   "execution_count": 2,
   "id": "bf3c3a94",
   "metadata": {},
   "outputs": [],
   "source": [
    "# Function to call Ensembl VEP API to map NM IDs to ENST IDs\n",
    "def get_enst_id(nm_id):\n",
    "    server = \"https://grch37.rest.ensembl.org\"\n",
    "    ext = f\"/xrefs/symbol/homo_sapiens/{nm_id}?\"\n",
    "    headers = {\"Content-Type\": \"application/json\"}\n",
    "\n",
    "    response = requests.get(server + ext, headers=headers)\n",
    "    if not response.ok:\n",
    "        return None\n",
    "\n",
    "    data = response.json()\n",
    "    for entry in data:\n",
    "        if entry['id'].startswith('ENST'):\n",
    "            return entry['id']\n",
    "    return None\n",
    "\n",
    "# Map NM IDs to ENST IDs via Ensembl API\n",
    "def map_to_enst(x):\n",
    "    if pd.isnull(x):\n",
    "        return None\n",
    "    x_str = str(x)\n",
    "    if x_str.startswith(\"ENST\"):\n",
    "        return x_str\n",
    "    return get_enst_id(x_str)\n",
    "\n",
    "df_transcripts['MSK-Impact_enst_id'] = df_transcripts['MSK-Impact'].apply(map_to_enst)"
   ]
  },
  {
   "cell_type": "code",
   "execution_count": 3,
   "id": "ff177725",
   "metadata": {},
   "outputs": [],
   "source": [
    "def strip_version(enst_id):\n",
    "    return enst_id.split('.')[0] if pd.notnull(enst_id) else None\n",
    "\n",
    "protein_dict = {\n",
    "    strip_version(row['grch37_enst_id']): {\n",
    "        'sequence': row['protein_sequence'],\n",
    "        'length': row['length']\n",
    "    }\n",
    "    for _, row in df_protein.iterrows()\n",
    "}"
   ]
  },
  {
   "cell_type": "code",
   "execution_count": 4,
   "id": "53a0d341",
   "metadata": {},
   "outputs": [],
   "source": [
    "def add_protein_info(df, col_name, new_col_prefix):\n",
    "    sequences, lengths = [], []\n",
    "    for enst in df[col_name]:\n",
    "        if pd.notnull(enst) and str(enst).strip():\n",
    "            enst_base = strip_version(enst)\n",
    "            if enst_base in protein_dict:\n",
    "                protein_info = protein_dict[enst_base]\n",
    "                sequences.append(protein_info['sequence'])\n",
    "                lengths.append(protein_info['length'])\n",
    "            else:\n",
    "                sequences.append(None)\n",
    "                lengths.append(None)\n",
    "        else:\n",
    "            sequences.append(None)\n",
    "            lengths.append(None)\n",
    "    df[f'{new_col_prefix}_protein_sequence'] = sequences\n",
    "    df[f'{new_col_prefix}_protein_length'] = lengths\n",
    "\n",
    "\n",
    "# Add protein information for specified columns\n",
    "for col in ['ensembl', 'oncokb', 'mskcc', 'MSK-Impact_enst_id']:\n",
    "    add_protein_info(df_transcripts, col, col)"
   ]
  },
  {
   "cell_type": "code",
   "execution_count": 5,
   "id": "4cd30aaf",
   "metadata": {},
   "outputs": [
    {
     "name": "stdout",
     "output_type": "stream",
     "text": [
      "ensembl: ENST00000316450\n",
      "ensembl: ENST00000344686\n",
      "oncokb: ENST00000316450\n",
      "oncokb: ENST00000344686\n",
      "mskcc: ENST00000304494,ENST00000361570\n",
      "mskcc: ENST00000607650\n",
      "mskcc: ENST00000376926\n"
     ]
    }
   ],
   "source": [
    "# Check for IDs without protein sequences and print them\n",
    "for source in ['ensembl', 'oncokb', 'mskcc', 'MSK-Impact_enst_id']:\n",
    "    missing_seq = df_transcripts[df_transcripts[f'{source}_protein_sequence'].isnull() & df_transcripts[source].notnull()]\n",
    "    for _, row in missing_seq.iterrows():\n",
    "        print(f\"{source}: {row[source]}\")\n",
    "\n",
    "# Determine the longest protein and add new column\n",
    "protein_length_cols = [\n",
    "    'oncokb_protein_length',\n",
    "    'mskcc_protein_length',\n",
    "    'MSK-Impact_enst_id_protein_length'\n",
    "]\n",
    "\n",
    "def determine_longest_protein(row):\n",
    "    lengths = [row[col] if pd.notnull(row[col]) else -1 for col in protein_length_cols]\n",
    "    max_length = max(lengths)\n",
    "    if lengths.count(max_length) == len(lengths):\n",
    "        return \"equal\"\n",
    "    sources = ['oncokb', 'mskcc', 'MSK-Impact']\n",
    "    longest_sources = [sources[i] for i, length in enumerate(lengths) if length == max_length]\n",
    "    if len(longest_sources) > 1:\n",
    "        return \",\".join(longest_sources)\n",
    "    if max_length == -1:\n",
    "        return None\n",
    "    return longest_sources[0]\n",
    "\n",
    "df_transcripts['longest_protein'] = df_transcripts.apply(determine_longest_protein, axis=1)"
   ]
  },
  {
   "cell_type": "code",
   "execution_count": 6,
   "id": "5b756d3e",
   "metadata": {},
   "outputs": [],
   "source": [
    "def are_sequences_identical(row):\n",
    "    seqs = [\n",
    "        row.get('oncokb_protein_sequence'),\n",
    "        row.get('mskcc_protein_sequence'),\n",
    "        row.get('MSK-Impact_enst_id_protein_sequence')\n",
    "    ]\n",
    "    filtered = [s for s in seqs if s is not None]\n",
    "    return all(s == filtered[0] for s in filtered)\n",
    "\n",
    "df_transcripts['identical_protein_sequence'] = df_transcripts.apply(are_sequences_identical, axis=1)\n"
   ]
  },
  {
   "cell_type": "code",
   "execution_count": 7,
   "id": "de0e8290",
   "metadata": {},
   "outputs": [
    {
     "name": "stdout",
     "output_type": "stream",
     "text": [
      "Requirement already satisfied: rapidfuzz in /Users/lix2/opt/anaconda3/lib/python3.9/site-packages (3.13.0)\n"
     ]
    }
   ],
   "source": [
    "!pip install rapidfuzz\n",
    "from rapidfuzz.distance import Indel"
   ]
  },
  {
   "cell_type": "code",
   "execution_count": 8,
   "id": "d178017a",
   "metadata": {},
   "outputs": [],
   "source": [
    "def find_diff_ranges(base, other):\n",
    "    if not base or not other:\n",
    "        return None\n",
    "\n",
    "    diffs = []\n",
    "    for op, a0, a1, b0, b1 in Indel.opcodes(base, other):\n",
    "        if op == 'equal':\n",
    "            continue\n",
    "        # give extra index for those first character is the same\n",
    "        if a0 == 0 or a0 == 1:\n",
    "            diffs.append(f\"-{b1-1}-0\")\n",
    "        else:\n",
    "            if a1 - 1 > a0:\n",
    "                diffs.append(f\"{a0}-{a1 - 1}\")\n",
    "            else:\n",
    "                diffs.append(f\"{a0}\")\n",
    "\n",
    "    return \",\".join(diffs) if diffs else None\n",
    "\n",
    "def compare_sequences(row, other_col):\n",
    "    if row['identical_protein_sequence'] == True:\n",
    "        return None\n",
    "    base = row['oncokb_protein_sequence']\n",
    "    other = row[other_col]\n",
    "    return find_diff_ranges(base, other)\n",
    "\n",
    "df_transcripts['oncokb_vs_mskcc'] = df_transcripts.apply(lambda row: compare_sequences(row, 'mskcc_protein_sequence'), axis=1)\n",
    "df_transcripts['oncokb_vs_MSK-Impact'] = df_transcripts.apply(lambda row: compare_sequences(row, 'MSK-Impact_enst_id_protein_sequence'), axis=1)"
   ]
  },
  {
   "cell_type": "code",
   "execution_count": 9,
   "id": "8d9c8fe3",
   "metadata": {},
   "outputs": [],
   "source": [
    "df_transcripts.to_csv('output/grch37/TEMP_compare_result_grch37.txt', sep='\\t', index=False)"
   ]
  },
  {
   "cell_type": "code",
   "execution_count": 10,
   "id": "c5dc6509",
   "metadata": {},
   "outputs": [
    {
     "name": "stdout",
     "output_type": "stream",
     "text": [
      "Sequence mismatch despite equal length: ABL1\n",
      "Sequence mismatch despite equal length: BRCA1\n",
      "Sequence mismatch despite equal length: CHEK2\n",
      "Sequence mismatch despite equal length: CSF3R\n",
      "Sequence mismatch despite equal length: CXCR4\n",
      "Sequence mismatch despite equal length: CYLD\n",
      "Sequence mismatch despite equal length: EIF4E\n",
      "Sequence mismatch despite equal length: ERG\n",
      "Sequence mismatch despite equal length: ETV1\n",
      "Sequence mismatch despite equal length: FGFR2\n",
      "Sequence mismatch despite equal length: FGFR3\n",
      "Sequence mismatch despite equal length: FOXP1\n",
      "Sequence mismatch despite equal length: FYN\n",
      "Sequence mismatch despite equal length: GNAS\n",
      "Sequence mismatch despite equal length: IKZF1\n",
      "Sequence mismatch despite equal length: KRAS\n",
      "Sequence mismatch despite equal length: MEN1\n",
      "Sequence mismatch despite equal length: MET\n",
      "Sequence mismatch despite equal length: MITF\n",
      "Sequence mismatch despite equal length: MYD88\n",
      "Sequence mismatch despite equal length: NF1\n",
      "Sequence mismatch despite equal length: PAK1\n",
      "Sequence mismatch despite equal length: PPP6C\n",
      "Sequence mismatch despite equal length: PTPRT\n",
      "Sequence mismatch despite equal length: RAD51\n",
      "Sequence mismatch despite equal length: RAD51D\n",
      "Sequence mismatch despite equal length: RIT1\n",
      "Sequence mismatch despite equal length: RTEL1\n",
      "Sequence mismatch despite equal length: SMARCA4\n",
      "Sequence mismatch despite equal length: STK19\n",
      "Sequence mismatch despite equal length: TCF3\n",
      "Sequence mismatch despite equal length: TGFBR2\n"
     ]
    }
   ],
   "source": [
    "# Print gene names where all lengths are equal but sequences differ\n",
    "def sequences_are_equal(row):\n",
    "    seqs = [\n",
    "        row.get('ensembl_protein_sequence'),\n",
    "        row.get('oncokb_protein_sequence'),\n",
    "        row.get('mskcc_protein_sequence'),\n",
    "        row.get('MSK-Impact_enst_id_protein_sequence')\n",
    "    ]\n",
    "    # Remove Nones and compare all non-null sequences to the first one\n",
    "    filtered = [s for s in seqs if s is not None]\n",
    "    return all(s == filtered[0] for s in filtered)\n",
    "\n",
    "# Identify and print genes with length-equal but sequence-different\n",
    "mismatch_rows = df_transcripts[df_transcripts['longest_protein'] == 'equal']\n",
    "for _, row in mismatch_rows.iterrows():\n",
    "    if not sequences_are_equal(row):\n",
    "        print(f\"Sequence mismatch despite equal length: {row['Hugo Symbol']}\")\n"
   ]
  }
 ],
 "metadata": {
  "kernelspec": {
   "display_name": "base",
   "language": "python",
   "name": "python3"
  },
  "language_info": {
   "codemirror_mode": {
    "name": "ipython",
    "version": 3
   },
   "file_extension": ".py",
   "mimetype": "text/x-python",
   "name": "python",
   "nbconvert_exporter": "python",
   "pygments_lexer": "ipython3",
   "version": "3.9.13"
  }
 },
 "nbformat": 4,
 "nbformat_minor": 5
}
